{
 "cells": [
  {
   "cell_type": "markdown",
   "metadata": {},
   "source": [
    "# Sentiment Analysis with Xgboost"
   ]
  },
  {
   "cell_type": "markdown",
   "metadata": {},
   "source": [
    "Predict the `score` assigned with each text amazon fine food reviews using xgboost."
   ]
  },
  {
   "cell_type": "markdown",
   "metadata": {},
   "source": [
    "### Libraries"
   ]
  },
  {
   "cell_type": "code",
   "execution_count": 137,
   "metadata": {},
   "outputs": [
    {
     "name": "stdout",
     "output_type": "stream",
     "text": [
      "[nltk_data] Downloading package punkt to\n",
      "[nltk_data]     C:\\Users\\dena1\\AppData\\Roaming\\nltk_data...\n",
      "[nltk_data]   Package punkt is already up-to-date!\n"
     ]
    }
   ],
   "source": [
    "import nltk\n",
    "nltk.download('punkt')\n",
    "import pandas as pd\n",
    "import numpy as np\n",
    "import matplotlib.pyplot as plt\n",
    "import seaborn as sns # colorful plots\n",
    "from collections import Counter\n",
    "from sklearn.metrics import f1_score, precision_score, recall_score, accuracy_score #evaluation\n",
    "from sklearn.model_selection import train_test_split, cross_val_score, GridSearchCV, RandomizedSearchCV\n",
    "from time import time #check runtime"
   ]
  },
  {
   "cell_type": "markdown",
   "metadata": {},
   "source": [
    "### Load Data"
   ]
  },
  {
   "cell_type": "code",
   "execution_count": 138,
   "metadata": {},
   "outputs": [
    {
     "data": {
      "text/html": [
       "<div>\n",
       "<style scoped>\n",
       "    .dataframe tbody tr th:only-of-type {\n",
       "        vertical-align: middle;\n",
       "    }\n",
       "\n",
       "    .dataframe tbody tr th {\n",
       "        vertical-align: top;\n",
       "    }\n",
       "\n",
       "    .dataframe thead th {\n",
       "        text-align: right;\n",
       "    }\n",
       "</style>\n",
       "<table border=\"1\" class=\"dataframe\">\n",
       "  <thead>\n",
       "    <tr style=\"text-align: right;\">\n",
       "      <th></th>\n",
       "      <th>Id</th>\n",
       "      <th>Score</th>\n",
       "      <th>Text</th>\n",
       "    </tr>\n",
       "  </thead>\n",
       "  <tbody>\n",
       "    <tr>\n",
       "      <th>0</th>\n",
       "      <td>1</td>\n",
       "      <td>5</td>\n",
       "      <td>I have bought several of the Vitality canned d...</td>\n",
       "    </tr>\n",
       "    <tr>\n",
       "      <th>1</th>\n",
       "      <td>2</td>\n",
       "      <td>1</td>\n",
       "      <td>Product arrived labeled as Jumbo Salted Peanut...</td>\n",
       "    </tr>\n",
       "    <tr>\n",
       "      <th>2</th>\n",
       "      <td>3</td>\n",
       "      <td>4</td>\n",
       "      <td>This is a confection that has been around a fe...</td>\n",
       "    </tr>\n",
       "    <tr>\n",
       "      <th>3</th>\n",
       "      <td>4</td>\n",
       "      <td>2</td>\n",
       "      <td>If you are looking for the secret ingredient i...</td>\n",
       "    </tr>\n",
       "    <tr>\n",
       "      <th>4</th>\n",
       "      <td>5</td>\n",
       "      <td>5</td>\n",
       "      <td>Great taffy at a great price.  There was a wid...</td>\n",
       "    </tr>\n",
       "  </tbody>\n",
       "</table>\n",
       "</div>"
      ],
      "text/plain": [
       "   Id  Score                                               Text\n",
       "0   1      5  I have bought several of the Vitality canned d...\n",
       "1   2      1  Product arrived labeled as Jumbo Salted Peanut...\n",
       "2   3      4  This is a confection that has been around a fe...\n",
       "3   4      2  If you are looking for the secret ingredient i...\n",
       "4   5      5  Great taffy at a great price.  There was a wid..."
      ]
     },
     "execution_count": 138,
     "metadata": {},
     "output_type": "execute_result"
    }
   ],
   "source": [
    "#--------------------------------------------------------------------------------\n",
    "# Constants and Configurations\n",
    "\n",
    "DATA_LOCAL = True\n",
    "LOCAL_PATH = \"../data/\"\n",
    "REMOTE_PATH = \"https://s3.amazonaws.com/coetichr/AmazonFoodReviews/\"\n",
    "NROWS = 50 #edit with a smaller size to develop faster\n",
    "TOKENIZER = nltk.word_tokenize \n",
    "STEMMER = nltk.PorterStemmer()\n",
    "\n",
    "\n",
    "# TODO: Seperate this into a seperate file/ library so we can load it into all the scripts\n",
    "def load_data(file):\n",
    "    path = LOCAL_PATH if DATA_LOCAL else REMOTE_PATH\n",
    "    return pd.read_csv(path + file, nrows=NROWS)\n",
    "\n",
    "\n",
    "# Load Reviews.csv\n",
    "reviewsdf = load_data(\"Reviews.csv\")\n",
    "\n",
    "#drop columns not needed\n",
    "reviewsdf.drop(columns=[\"ProductId\", \"UserId\", \"ProfileName\", \"Time\", \"Summary\", \"HelpfulnessDenominator\", \"HelpfulnessNumerator\"], inplace=True, axis=1)\n",
    "reviewsdf.head()"
   ]
  },
  {
   "cell_type": "markdown",
   "metadata": {},
   "source": [
    "### Data Preprocessing\n",
    "\n",
    "Going to tokenize the words and anything that might need to be removed (stopwords, puncutation, etc) :"
   ]
  },
  {
   "cell_type": "code",
   "execution_count": 139,
   "metadata": {},
   "outputs": [
    {
     "data": {
      "text/html": [
       "<div>\n",
       "<style scoped>\n",
       "    .dataframe tbody tr th:only-of-type {\n",
       "        vertical-align: middle;\n",
       "    }\n",
       "\n",
       "    .dataframe tbody tr th {\n",
       "        vertical-align: top;\n",
       "    }\n",
       "\n",
       "    .dataframe thead th {\n",
       "        text-align: right;\n",
       "    }\n",
       "</style>\n",
       "<table border=\"1\" class=\"dataframe\">\n",
       "  <thead>\n",
       "    <tr style=\"text-align: right;\">\n",
       "      <th></th>\n",
       "      <th>Id</th>\n",
       "      <th>Score</th>\n",
       "      <th>Text</th>\n",
       "      <th>Tokenized_Text</th>\n",
       "    </tr>\n",
       "  </thead>\n",
       "  <tbody>\n",
       "    <tr>\n",
       "      <th>0</th>\n",
       "      <td>1</td>\n",
       "      <td>5</td>\n",
       "      <td>[I, have, bought, several, of, the, Vitality, ...</td>\n",
       "      <td>[I, have, bought, sever, of, the, vital, can, ...</td>\n",
       "    </tr>\n",
       "    <tr>\n",
       "      <th>1</th>\n",
       "      <td>2</td>\n",
       "      <td>1</td>\n",
       "      <td>[Product, arrived, labeled, as, Jumbo, Salted,...</td>\n",
       "      <td>[product, arriv, label, as, jumbo, salt, peanu...</td>\n",
       "    </tr>\n",
       "    <tr>\n",
       "      <th>2</th>\n",
       "      <td>3</td>\n",
       "      <td>4</td>\n",
       "      <td>[This, is, a, confection, that, has, been, aro...</td>\n",
       "      <td>[thi, is, a, confect, that, ha, been, around, ...</td>\n",
       "    </tr>\n",
       "    <tr>\n",
       "      <th>3</th>\n",
       "      <td>4</td>\n",
       "      <td>2</td>\n",
       "      <td>[If, you, are, looking, for, the, secret, ingr...</td>\n",
       "      <td>[If, you, are, look, for, the, secret, ingredi...</td>\n",
       "    </tr>\n",
       "    <tr>\n",
       "      <th>4</th>\n",
       "      <td>5</td>\n",
       "      <td>5</td>\n",
       "      <td>[Great, taffy, at, a, great, price, ., There, ...</td>\n",
       "      <td>[great, taffi, at, a, great, price, ., there, ...</td>\n",
       "    </tr>\n",
       "  </tbody>\n",
       "</table>\n",
       "</div>"
      ],
      "text/plain": [
       "   Id  Score                                               Text  \\\n",
       "0   1      5  [I, have, bought, several, of, the, Vitality, ...   \n",
       "1   2      1  [Product, arrived, labeled, as, Jumbo, Salted,...   \n",
       "2   3      4  [This, is, a, confection, that, has, been, aro...   \n",
       "3   4      2  [If, you, are, looking, for, the, secret, ingr...   \n",
       "4   5      5  [Great, taffy, at, a, great, price, ., There, ...   \n",
       "\n",
       "                                      Tokenized_Text  \n",
       "0  [I, have, bought, sever, of, the, vital, can, ...  \n",
       "1  [product, arriv, label, as, jumbo, salt, peanu...  \n",
       "2  [thi, is, a, confect, that, ha, been, around, ...  \n",
       "3  [If, you, are, look, for, the, secret, ingredi...  \n",
       "4  [great, taffi, at, a, great, price, ., there, ...  "
      ]
     },
     "execution_count": 139,
     "metadata": {},
     "output_type": "execute_result"
    }
   ],
   "source": [
    "# parse the text into tokens and apply to the table\n",
    "def tokenize(row):\n",
    "    row[\"Text\"] = TOKENIZER(row[\"Text\"]) #tokenize\n",
    "    row[\"Tokenized_Text\"] = [] + row[\"Text\"]\n",
    "    return row\n",
    "    \n",
    "# stemming shortens the sentences by combining words with the same meaning \n",
    "# nltk assumes that the ewviews are in english\n",
    "def apply_stem(row):\n",
    "    row[\"Tokenized_Text\"] = list(map(lambda str: STEMMER.stem(str), row[\"Tokenized_Text\"]))\n",
    "    return row\n",
    "    \n",
    "#apply\n",
    "reviewsdf = reviewsdf.apply(tokenize, axis=1)\n",
    "reviewsdf.head()\n",
    "reviewsdf = reviewsdf.apply(apply_stem, axis=1)\n",
    "reviewsdf.head()\n"
   ]
  },
  {
   "cell_type": "markdown",
   "metadata": {},
   "source": [
    "### Distribution\n",
    "\n",
    "Look at the distribution of different scores and words received for each text review."
   ]
  },
  {
   "cell_type": "code",
   "execution_count": 140,
   "metadata": {},
   "outputs": [
    {
     "data": {
      "image/png": "[encoded data removed]",
      "text/plain": [
       "<Figure size 720x360 with 1 Axes>"
      ]
     },
     "metadata": {},
     "output_type": "display_data"
    },
    {
     "data": {
      "image/png": "[encoded data removed]",
      "text/plain": [
       "<Figure size 1008x720 with 1 Axes>"
      ]
     },
     "metadata": {},
     "output_type": "display_data"
    },
    {
     "data": {
      "image/png": "[encoded data removed]",
      "text/plain": [
       "<Figure size 1008x720 with 1 Axes>"
      ]
     },
     "metadata": {},
     "output_type": "display_data"
    }
   ],
   "source": [
    "plt.subplots(figsize=(10,5))\n",
    "sns.set(style=\"whitegrid\", context=\"paper\") #loooks nicer with a blank background\n",
    "sns.countplot(x=\"Score\", data=reviewsdf, palette=\"GnBu_d\").set_title(\"Score Distribution\")\n",
    "plt.show()\n",
    "\n",
    "def plot_word_count(columname):\n",
    "    words = Counter() #count words\n",
    "    for idx in reviewsdf.index:\n",
    "        words.update(reviewsdf.loc[idx, columname])\n",
    "    plt.subplots(figsize=(14,10))\n",
    "    wordsdf = pd.DataFrame.from_dict(words, orient='index').reset_index()\n",
    "    wordsdf = wordsdf.head(25)\n",
    "    wordsdf = wordsdf.rename(columns={'index': 'token', 0:'count'})\n",
    "    wordsdf = wordsdf.sort_values('count', ascending=False)\n",
    "    sns.barplot(x=wordsdf['count'], y=wordsdf['token'], palette=\"deep\").set_title(\"Score Distribution\")\n",
    "    plt.show()\n",
    "\n",
    "plot_word_count('Text')\n",
    "plot_word_count('Tokenized_Text')"
   ]
  },
  {
   "cell_type": "code",
   "execution_count": 142,
   "metadata": {},
   "outputs": [],
   "source": [
    "#Remove stopwords and unecessar content and repeat\n"
   ]
  },
  {
   "cell_type": "code",
   "execution_count": null,
   "metadata": {},
   "outputs": [],
   "source": []
  }
 ],
 "metadata": {
  "kernelspec": {
   "display_name": "Python 3",
   "language": "python",
   "name": "python3"
  },
  "language_info": {
   "codemirror_mode": {
    "name": "ipython",
    "version": 3
   },
   "file_extension": ".py",
   "mimetype": "text/x-python",
   "name": "python",
   "nbconvert_exporter": "python",
   "pygments_lexer": "ipython3",
   "version": "3.7.0"
  }
 },
 "nbformat": 4,
 "nbformat_minor": 2
}
