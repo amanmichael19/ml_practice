{
 "cells": [
  {
   "cell_type": "code",
   "execution_count": 1,
   "metadata": {
    "collapsed": true
   },
   "outputs": [],
   "source": [
    "import pandas as pd\n",
    "import xgboost as xgb\n",
    "import numpy as np\n",
    "from sklearn.metrics import mean_squared_error\n",
    "from sklearn.model_selection import train_test_split\n",
    "from sklearn.feature_extraction.text import CountVectorizer\n",
    "from sklearn.metrics import roc_auc_score\n",
    "from sklearn.feature_extraction.text import TfidfVectorizer\n",
    "import seaborn as sns\n",
    "import matplotlib.pyplot as plt\n",
    "\n",
    "PATH = '../data/Reviews.csv'\n",
    "sns.set(color_codes=True)"
   ]
  },
  {
   "cell_type": "markdown",
   "metadata": {},
   "source": [
    "### In Progress"
   ]
  },
  {
   "cell_type": "code",
   "execution_count": null,
   "metadata": {
    "collapsed": true
   },
   "outputs": [],
   "source": [
    "# class for Exploratory Data Analysis\n",
    "#In Progress\n",
    "class ED_analysis:\n",
    "    def __init__(self, path=''):\n",
    "        self.dframe = pd.read_csv(path or PATH)\n",
    "        \n",
    "    #prepare data for feature analysis\n",
    "    \n",
    "    def __preprocess__(self):\n",
    "        self.dframe.dropna(inplace=True)\n",
    "    def dist(self,colName,title):\n",
    "        # Histogram of var\n",
    "        #sns.distplot(data[colName].dropna());\n",
    "        plt.style.use('fivethirtyeight')\n",
    "        plt.hist(self.dframe[colName].dropna(), bins = 100, edgecolor = 'k')\n",
    "        plt.xlabel(colName)\n",
    "        plt.ylabel('Number of Reviews')\n",
    "        plt.title(title)\n",
    "    def scatterPlot(self);\n",
    "    def densityPlot(self,colName,catVar=None);\n",
    "    def parisPlot(self);\n",
    "\n",
    "    "
   ]
  },
  {
   "cell_type": "markdown",
   "metadata": {},
   "source": [
    "### In Progess"
   ]
  },
  {
   "cell_type": "code",
   "execution_count": null,
   "metadata": {
    "collapsed": true
   },
   "outputs": [],
   "source": [
    "\n",
    "class XgboostModel:\n",
    "    def __init__(self, path=''):\n",
    "        self.path = path or PATH\n",
    "        self.data = pd.read_csv(self.path)\n",
    "        self.model = None\n",
    "    # Data pre-proccessing section\n",
    "    def __prepareData__(self):\n",
    "        self.data.dropna(inplace=True)\n",
    "        self.data = self.data.iloc[:1000,:]\n",
    "        self.data = self.data[self.data['Score'] != 3]\n",
    "        self.data = self.data[self.data['HelpfulnessNumerator']!=0]\n",
    "        self.data['Positivity'] = np.where(self.data['Score'] > 3, 1, 0)\n",
    "        \n",
    "    #def tokenize_reviews()\n",
    "        \n",
    "    #def convert_to_number()\n",
    "    \n",
    "    def __splitData__(self):\n",
    "        X,y = self.data.iloc[:,:-1], self.data.iloc[:,-1]\n",
    "        return X, y\n",
    "    def quickView(self):\n",
    "        self.data.head()\n",
    "    #XGBoost provides a wrapper class to allow models \n",
    "    #to be treated like classifiers or regressors in the scikit-learn framework.\n",
    "    #Models are fit using the scikit-learn API and the model.fit() function.\n",
    "    \n",
    "    \n",
    "    def plain_train(self,params={}):\n",
    "        X, y = __splitData__()\n",
    "        X_train, y_train, X_test, y_test = train_test_split(X,y,test_split=0.2,random_state=12)\n",
    "        \n",
    "        #put params in the classifier\n",
    "        params = params or {}\n",
    "        self.model = xgb.XGBClassifier()\n",
    "        self.model.fit(X_train, y_train)\n",
    "    def test_model(self):\n",
    "        if self.model is not None:\n",
    "            predictions = self.model.predict(X_test)\n",
    "            print(\"Accuracy: %f\" % (y_test==predictions).sum()/y_test.shape[0])\n",
    "        else:\n",
    "            print(\"Error: prepare data and train model first. :[ \")\n",
    "    def cv_train(self,params={}):\n",
    "        X, y = __splitData__()\n",
    "        data_dmatrix = xgb.DMatrix(data=X,label=y)\n",
    "        params = params or {}\n",
    "        cv_results = xgb.cv(dtrain=data_dmatrix, params=params, nfold=3,\n",
    "                    num_boost_round=50,early_stopping_rounds=10,metrics=\"auc\", as_pandas=True, seed=123)\n",
    "        print(cv_results)\n",
    "        "
   ]
  },
  {
   "cell_type": "code",
   "execution_count": null,
   "metadata": {
    "collapsed": true
   },
   "outputs": [],
   "source": []
  }
 ],
 "metadata": {
  "kernelspec": {
   "display_name": "Python 3",
   "language": "python",
   "name": "python3"
  },
  "language_info": {
   "codemirror_mode": {
    "name": "ipython",
    "version": 3
   },
   "file_extension": ".py",
   "mimetype": "text/x-python",
   "name": "python",
   "nbconvert_exporter": "python",
   "pygments_lexer": "ipython3",
   "version": "3.6.1"
  }
 },
 "nbformat": 4,
 "nbformat_minor": 2
}
