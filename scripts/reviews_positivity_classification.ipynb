{
 "cells": [
  {
   "cell_type": "markdown",
   "metadata": {},
   "source": [
    "# Amazon Fine Food Reviews\n",
    "\n",
    "This notebook follows [this article](https://datascienceplus.com/scikit-learn-for-text-analysis-of-amazon-fine-food-reviews/) on text classification for predicting positivity using Scikit-Learn."
   ]
  },
  {
   "cell_type": "markdown",
   "metadata": {},
   "source": [
    "### Imports"
   ]
  },
  {
   "cell_type": "code",
   "execution_count": 1,
   "metadata": {},
   "outputs": [
    {
     "name": "stdout",
     "output_type": "stream",
     "text": [
      "[nltk_data] Downloading package stopwords to\n",
      "[nltk_data]     /Users/samcoffey/nltk_data...\n",
      "[nltk_data]   Package stopwords is already up-to-date!\n",
      "[nltk_data] Downloading package punkt to /Users/samcoffey/nltk_data...\n",
      "[nltk_data]   Package punkt is already up-to-date!\n"
     ]
    }
   ],
   "source": [
    "import pandas as pd\n",
    "import numpy as np\n",
    "import seaborn as sns\n",
    "import string\n",
    "import nltk\n",
    "nltk.download('stopwords')\n",
    "nltk.download('punkt')\n",
    "import matplotlib.pyplot as plt\n",
    "from nltk.corpus import stopwords\n",
    "from collections import Counter\n",
    "from sklearn.model_selection import train_test_split\n",
    "from sklearn.feature_extraction.text import CountVectorizer\n",
    "from sklearn.linear_model import LogisticRegression, LinearRegression\n",
    "from sklearn.metrics import roc_auc_score\n",
    "from sklearn.metrics import confusion_matrix\n",
    "from sklearn.feature_extraction.text import TfidfVectorizer"
   ]
  },
  {
   "cell_type": "markdown",
   "metadata": {},
   "source": [
    "### Data Setup"
   ]
  },
  {
   "cell_type": "code",
   "execution_count": 2,
   "metadata": {},
   "outputs": [],
   "source": [
    "#--------------------------------------------------------------------------------\n",
    "# Set DATA_LOCAL to True if data is stored locally in '/data', otherwise set False\n",
    "# and file will be downloaded from S3\n",
    "#\n",
    "# NOTE: Importing data from URL will take ~15-20s\n",
    "#\n",
    "#\n",
    "DATA_LOCAL = True\n",
    "LOCAL_PATH = \"../data/\"\n",
    "REMOTE_PATH = \"https://s3.amazonaws.com/coetichr/AmazonFoodReviews/\"\n",
    "DROP_COLS = [\"ProductId\", \"UserId\", \"ProfileName\", \"Time\", \"Summary\", \"HelpfulnessDenominator\", \"HelpfulnessNumerator\"]\n",
    "\n",
    "# Plotting the token distributions takes a while, set PLOT_TOKEN_DIST to False to skip over them\n",
    "PLOT_TOKEN_DIST = False\n",
    "\n",
    "def load_data(file, nrows = -1):\n",
    "    path = LOCAL_PATH if DATA_LOCAL else REMOTE_PATH\n",
    "    if (nrows > -1):\n",
    "        return pd.read_csv(path + file, nrows = nrows)\n",
    "    else:\n",
    "        return pd.read_csv(path + file)\n",
    "#\n",
    "#\n",
    "#--------------------------------------------------------------------------------"
   ]
  },
  {
   "cell_type": "markdown",
   "metadata": {},
   "source": [
    "### Helper Methods"
   ]
  },
  {
   "cell_type": "code",
   "execution_count": 3,
   "metadata": {},
   "outputs": [],
   "source": [
    "# Tokens that appear frequently that should be stripped\n",
    "remove_tokens = ['br', 'br br', 'it s', 'br i']\n",
    "\n",
    "def countplot(df, xcol, title = 'Distribution'):\n",
    "    sns.countplot(x=xcol, data=df, palette=\"GnBu_d\").set_title(title)\n",
    "    plt.show()\n",
    "    \n",
    "def count_positive(data):\n",
    "    return data[data['Score'] > 3].shape[0]\n",
    "\n",
    "def compute_avg(data):\n",
    "    return np.mean(list(map(lambda s: float(s), data.loc[:, \"Score\"])))\n",
    "\n",
    "def plot_confusion_matrix(model, xtest, ytest, preds):\n",
    "    cm = confusion_matrix(ytest, preds)\n",
    "    score = model.score(xtest, ytest)\n",
    "    plt.figure(figsize = (9,9))\n",
    "    sns.heatmap(cm, annot = True, fmt = \".3f\", linewidths = .5, square = True, cmap = 'Blues_r')\n",
    "    plt.ylabel('Actual')\n",
    "    plt.xlabel('Predicted')\n",
    "    title = 'Accuracy Score: {0}'.format(score)\n",
    "    plt.title(title, size = 15)\n",
    "\n",
    "# Plot the given dataframe representing the distribution of token counts\n",
    "def plot_token_df(token_df, title = 'Token Count Distribution'):\n",
    "    plt.subplots(figsize = (14,10))\n",
    "    sns.barplot(x = token_df['count'], y = token_df['token'], palette = \"deep\").set_title(title)\n",
    "    plt.show()\n",
    "\n",
    "# Sum the columns in the matrix and return the row of column sums\n",
    "def sum_matrix(m):\n",
    "    sums = []\n",
    "    for col in range(len(m[0])):\n",
    "        sum = 0\n",
    "        for row in m:\n",
    "            sum += row[col]\n",
    "        sums.append(sum)\n",
    "    return sums\n",
    "\n",
    "# Remove rows from given data frame where the token column isn't a stopword\n",
    "def remove_stopwords(tok_df):\n",
    "    return tok_df[~tok_df.token.isin(stopwords.words('english'))]\n",
    "\n",
    "# Remove rows from given data frame where token column isn't in given list\n",
    "def remove_with_list(tok_df, tok_list):\n",
    "    return tok_df[~tok_df.token.isin(tok_list)]\n",
    "\n",
    "# Create a data frame of tokens and their counts from the given vectorizer\n",
    "# and array of documents\n",
    "def cv_to_df(train_vect, doc_arry):\n",
    "    mtrx = train_vect.transform(doc_arry).toarray()\n",
    "    feats = train_vect.get_feature_names()\n",
    "    sums = sum_matrix(mtrx)\n",
    "    cv_df = pd.DataFrame(data = { 'token': feats, 'count': sums })\n",
    "    cv_df = remove_stopwords(cv_df)\n",
    "    cv_df = remove_with_list(cv_df, remove_tokens)\n",
    "    return cv_df.sort_values('count', ascending = False)"
   ]
  },
  {
   "cell_type": "markdown",
   "metadata": {},
   "source": [
    "### Load  `Reviews.csv`"
   ]
  },
  {
   "cell_type": "code",
   "execution_count": 4,
   "metadata": {
    "scrolled": true
   },
   "outputs": [
    {
     "name": "stdout",
     "output_type": "stream",
     "text": [
      "Number of rows: 50000\n"
     ]
    },
    {
     "data": {
      "text/html": [
       "<div>\n",
       "<style scoped>\n",
       "    .dataframe tbody tr th:only-of-type {\n",
       "        vertical-align: middle;\n",
       "    }\n",
       "\n",
       "    .dataframe tbody tr th {\n",
       "        vertical-align: top;\n",
       "    }\n",
       "\n",
       "    .dataframe thead th {\n",
       "        text-align: right;\n",
       "    }\n",
       "</style>\n",
       "<table border=\"1\" class=\"dataframe\">\n",
       "  <thead>\n",
       "    <tr style=\"text-align: right;\">\n",
       "      <th></th>\n",
       "      <th>Id</th>\n",
       "      <th>ProductId</th>\n",
       "      <th>UserId</th>\n",
       "      <th>ProfileName</th>\n",
       "      <th>HelpfulnessNumerator</th>\n",
       "      <th>HelpfulnessDenominator</th>\n",
       "      <th>Score</th>\n",
       "      <th>Time</th>\n",
       "      <th>Summary</th>\n",
       "      <th>Text</th>\n",
       "    </tr>\n",
       "  </thead>\n",
       "  <tbody>\n",
       "    <tr>\n",
       "      <th>0</th>\n",
       "      <td>1</td>\n",
       "      <td>B001E4KFG0</td>\n",
       "      <td>A3SGXH7AUHU8GW</td>\n",
       "      <td>delmartian</td>\n",
       "      <td>1</td>\n",
       "      <td>1</td>\n",
       "      <td>5</td>\n",
       "      <td>1303862400</td>\n",
       "      <td>Good Quality Dog Food</td>\n",
       "      <td>I have bought several of the Vitality canned d...</td>\n",
       "    </tr>\n",
       "    <tr>\n",
       "      <th>1</th>\n",
       "      <td>2</td>\n",
       "      <td>B00813GRG4</td>\n",
       "      <td>A1D87F6ZCVE5NK</td>\n",
       "      <td>dll pa</td>\n",
       "      <td>0</td>\n",
       "      <td>0</td>\n",
       "      <td>1</td>\n",
       "      <td>1346976000</td>\n",
       "      <td>Not as Advertised</td>\n",
       "      <td>Product arrived labeled as Jumbo Salted Peanut...</td>\n",
       "    </tr>\n",
       "    <tr>\n",
       "      <th>2</th>\n",
       "      <td>3</td>\n",
       "      <td>B000LQOCH0</td>\n",
       "      <td>ABXLMWJIXXAIN</td>\n",
       "      <td>Natalia Corres \"Natalia Corres\"</td>\n",
       "      <td>1</td>\n",
       "      <td>1</td>\n",
       "      <td>4</td>\n",
       "      <td>1219017600</td>\n",
       "      <td>\"Delight\" says it all</td>\n",
       "      <td>This is a confection that has been around a fe...</td>\n",
       "    </tr>\n",
       "    <tr>\n",
       "      <th>3</th>\n",
       "      <td>4</td>\n",
       "      <td>B000UA0QIQ</td>\n",
       "      <td>A395BORC6FGVXV</td>\n",
       "      <td>Karl</td>\n",
       "      <td>3</td>\n",
       "      <td>3</td>\n",
       "      <td>2</td>\n",
       "      <td>1307923200</td>\n",
       "      <td>Cough Medicine</td>\n",
       "      <td>If you are looking for the secret ingredient i...</td>\n",
       "    </tr>\n",
       "    <tr>\n",
       "      <th>4</th>\n",
       "      <td>5</td>\n",
       "      <td>B006K2ZZ7K</td>\n",
       "      <td>A1UQRSCLF8GW1T</td>\n",
       "      <td>Michael D. Bigham \"M. Wassir\"</td>\n",
       "      <td>0</td>\n",
       "      <td>0</td>\n",
       "      <td>5</td>\n",
       "      <td>1350777600</td>\n",
       "      <td>Great taffy</td>\n",
       "      <td>Great taffy at a great price.  There was a wid...</td>\n",
       "    </tr>\n",
       "  </tbody>\n",
       "</table>\n",
       "</div>"
      ],
      "text/plain": [
       "   Id   ProductId          UserId                      ProfileName  \\\n",
       "0   1  B001E4KFG0  A3SGXH7AUHU8GW                       delmartian   \n",
       "1   2  B00813GRG4  A1D87F6ZCVE5NK                           dll pa   \n",
       "2   3  B000LQOCH0   ABXLMWJIXXAIN  Natalia Corres \"Natalia Corres\"   \n",
       "3   4  B000UA0QIQ  A395BORC6FGVXV                             Karl   \n",
       "4   5  B006K2ZZ7K  A1UQRSCLF8GW1T    Michael D. Bigham \"M. Wassir\"   \n",
       "\n",
       "   HelpfulnessNumerator  HelpfulnessDenominator  Score        Time  \\\n",
       "0                     1                       1      5  1303862400   \n",
       "1                     0                       0      1  1346976000   \n",
       "2                     1                       1      4  1219017600   \n",
       "3                     3                       3      2  1307923200   \n",
       "4                     0                       0      5  1350777600   \n",
       "\n",
       "                 Summary                                               Text  \n",
       "0  Good Quality Dog Food  I have bought several of the Vitality canned d...  \n",
       "1      Not as Advertised  Product arrived labeled as Jumbo Salted Peanut...  \n",
       "2  \"Delight\" says it all  This is a confection that has been around a fe...  \n",
       "3         Cough Medicine  If you are looking for the secret ingredient i...  \n",
       "4            Great taffy  Great taffy at a great price.  There was a wid...  "
      ]
     },
     "execution_count": 4,
     "metadata": {},
     "output_type": "execute_result"
    }
   ],
   "source": [
    "# Load Reviews.csv\n",
    "review_data = load_data(\"Reviews.csv\", 50000)\n",
    "\n",
    "# Print the first 5 lines\n",
    "print(\"Number of rows: \" + str(review_data.shape[0]))\n",
    "review_data.head()"
   ]
  },
  {
   "cell_type": "markdown",
   "metadata": {},
   "source": [
    "### Makeup\n",
    "\n",
    "How many helpful reviews are positive/negative? How many unhelpful reviews are positive/negative?"
   ]
  },
  {
   "cell_type": "code",
   "execution_count": 5,
   "metadata": {},
   "outputs": [
    {
     "name": "stdout",
     "output_type": "stream",
     "text": [
      "Distribution (neutral):          48.46%\n",
      "Distribution (helpful):          45.72%\n",
      "Distribution (unhelpful):        5.82%\n",
      "\n",
      "Average score (overall):         4.15\n",
      "Average score (neutral):         4.38\n",
      "Average score (unhelpful):       4.01\n",
      "Average score (helpful):         3.20\n",
      "\n",
      "Percentage positive (overall):   0.77%\n",
      "Percentage positive (neutral):   0.84%\n",
      "Percentage positive (unhelpful): 0.47%\n",
      "Percentage positive (helpful):   0.73%\n"
     ]
    }
   ],
   "source": [
    "df = review_data.copy()\n",
    "\n",
    "df_neutral = df[(df['HelpfulnessNumerator'] == 0) & (df['HelpfulnessDenominator'] == 0)]\n",
    "df_helpful = df[df['HelpfulnessNumerator'] != 0]\n",
    "df_unhelpful = df[(df['HelpfulnessNumerator'] == 0) & (df['HelpfulnessDenominator'] != 0)]\n",
    "\n",
    "print(\"Distribution (neutral):          \" + \"{0:.2f}%\".format((df_neutral.shape[0] / df.shape[0]) * 100.0))\n",
    "print(\"Distribution (helpful):          \" + \"{0:.2f}%\".format((df_helpful.shape[0] / df.shape[0]) * 100.0))\n",
    "print(\"Distribution (unhelpful):        \" + \"{0:.2f}%\".format((df_unhelpful.shape[0] / df.shape[0]) * 100.0))\n",
    "print(\"\")\n",
    "print(\"Average score (overall):         \" + \"{0:.2f}\".format(compute_avg(df)))\n",
    "print(\"Average score (neutral):         \" + \"{0:.2f}\".format(compute_avg(df_neutral)))\n",
    "print(\"Average score (unhelpful):       \" + \"{0:.2f}\".format(compute_avg(df_helpful)))\n",
    "print(\"Average score (helpful):         \" + \"{0:.2f}\".format(compute_avg(df_unhelpful)))\n",
    "print(\"\")\n",
    "print(\"Percentage positive (overall):   \" + \"{0:.2f}%\".format(float(count_positive(df))/float(df.shape[0])))\n",
    "print(\"Percentage positive (neutral):   \" + \"{0:.2f}%\".format(float(count_positive(df_neutral))/float(df_neutral.shape[0])))\n",
    "print(\"Percentage positive (unhelpful): \" + \"{0:.2f}%\".format(float(count_positive(df_unhelpful))/float(df_unhelpful.shape[0])))\n",
    "print(\"Percentage positive (helpful):   \" + \"{0:.2f}%\".format(float(count_positive(df_helpful))/float(df_helpful.shape[0])))"
   ]
  },
  {
   "cell_type": "markdown",
   "metadata": {},
   "source": [
    "# Positivity Approach - Logistic Regression"
   ]
  },
  {
   "cell_type": "markdown",
   "metadata": {},
   "source": [
    "### Cleaning\n",
    "\n",
    "#### Add Classification Column (Positivity)\n",
    "\n",
    "- Remove rows with neutral score ('Score' = 3)\n",
    "- Remove unhelpful reviews ('HelpfulnessNumerator' = 0)\n",
    "- Remove unneeded columns specified by `DROP_COLS` above\n",
    "- Add 'Positivity' column ('Score' = { [1,2] => 0, [4,5] => 1 })"
   ]
  },
  {
   "cell_type": "code",
   "execution_count": 6,
   "metadata": {},
   "outputs": [
    {
     "name": "stdout",
     "output_type": "stream",
     "text": [
      "Number of rows: 21079\n"
     ]
    },
    {
     "data": {
      "text/html": [
       "<div>\n",
       "<style scoped>\n",
       "    .dataframe tbody tr th:only-of-type {\n",
       "        vertical-align: middle;\n",
       "    }\n",
       "\n",
       "    .dataframe tbody tr th {\n",
       "        vertical-align: top;\n",
       "    }\n",
       "\n",
       "    .dataframe thead th {\n",
       "        text-align: right;\n",
       "    }\n",
       "</style>\n",
       "<table border=\"1\" class=\"dataframe\">\n",
       "  <thead>\n",
       "    <tr style=\"text-align: right;\">\n",
       "      <th></th>\n",
       "      <th>Id</th>\n",
       "      <th>Score</th>\n",
       "      <th>Text</th>\n",
       "      <th>Positivity</th>\n",
       "    </tr>\n",
       "  </thead>\n",
       "  <tbody>\n",
       "    <tr>\n",
       "      <th>0</th>\n",
       "      <td>1</td>\n",
       "      <td>5</td>\n",
       "      <td>I have bought several of the Vitality canned d...</td>\n",
       "      <td>1</td>\n",
       "    </tr>\n",
       "    <tr>\n",
       "      <th>2</th>\n",
       "      <td>3</td>\n",
       "      <td>4</td>\n",
       "      <td>This is a confection that has been around a fe...</td>\n",
       "      <td>1</td>\n",
       "    </tr>\n",
       "    <tr>\n",
       "      <th>3</th>\n",
       "      <td>4</td>\n",
       "      <td>2</td>\n",
       "      <td>If you are looking for the secret ingredient i...</td>\n",
       "      <td>0</td>\n",
       "    </tr>\n",
       "    <tr>\n",
       "      <th>8</th>\n",
       "      <td>9</td>\n",
       "      <td>5</td>\n",
       "      <td>Right now I'm mostly just sprouting this so my...</td>\n",
       "      <td>1</td>\n",
       "    </tr>\n",
       "    <tr>\n",
       "      <th>10</th>\n",
       "      <td>11</td>\n",
       "      <td>5</td>\n",
       "      <td>I don't know if it's the cactus or the tequila...</td>\n",
       "      <td>1</td>\n",
       "    </tr>\n",
       "  </tbody>\n",
       "</table>\n",
       "</div>"
      ],
      "text/plain": [
       "    Id  Score                                               Text  Positivity\n",
       "0    1      5  I have bought several of the Vitality canned d...           1\n",
       "2    3      4  This is a confection that has been around a fe...           1\n",
       "3    4      2  If you are looking for the secret ingredient i...           0\n",
       "8    9      5  Right now I'm mostly just sprouting this so my...           1\n",
       "10  11      5  I don't know if it's the cactus or the tequila...           1"
      ]
     },
     "execution_count": 6,
     "metadata": {},
     "output_type": "execute_result"
    }
   ],
   "source": [
    "df.dropna(inplace=True)\n",
    "df = df[df['Score'] != 3]\n",
    "df = df[df['HelpfulnessNumerator'] != 0]\n",
    "df.drop(columns = DROP_COLS, inplace = True, axis = 1)\n",
    "df['Positivity'] = np.where(df['Score'] > 3, 1, 0)\n",
    "print(\"Number of rows: \" + str(df.shape[0]))\n",
    "df.head()"
   ]
  },
  {
   "cell_type": "markdown",
   "metadata": {},
   "source": [
    "### Split into Training and Test\n",
    "\n",
    "Split data into random training and test subsets using \"Text\" and \"Positivity\" columns"
   ]
  },
  {
   "cell_type": "code",
   "execution_count": 7,
   "metadata": {},
   "outputs": [
    {
     "name": "stdout",
     "output_type": "stream",
     "text": [
      "X_train row count:  15809\n",
      "Y_train row count:  15809\n"
     ]
    }
   ],
   "source": [
    "X_train, X_test, Y_train, Y_test = train_test_split(df['Text'], df['Positivity'], random_state = 0)\n",
    "print('X_train row count: ', X_train.shape[0])\n",
    "print('Y_train row count: ', Y_train.shape[0])"
   ]
  },
  {
   "cell_type": "markdown",
   "metadata": {},
   "source": [
    "### Vectorize Tokens\n",
    "\n",
    "Create a token vectorizer to extract token features from the text & transform the dataset against."
   ]
  },
  {
   "cell_type": "code",
   "execution_count": 8,
   "metadata": {},
   "outputs": [],
   "source": [
    "cv = CountVectorizer(min_df = 10, ngram_range = (1,3), analyzer = 'word', token_pattern = r'\\w{1,}', lowercase = True)"
   ]
  },
  {
   "cell_type": "markdown",
   "metadata": {},
   "source": [
    "### Features\n",
    "\n",
    "Get the number of features being used by the vectorizer for the `X_train` set."
   ]
  },
  {
   "cell_type": "code",
   "execution_count": 9,
   "metadata": {},
   "outputs": [
    {
     "name": "stdout",
     "output_type": "stream",
     "text": [
      "Number of features in X_train: 34676\n"
     ]
    }
   ],
   "source": [
    "x_train_vect = cv.fit(X_train)\n",
    "print(\"Number of features in X_train: \" + str(len(x_train_vect.get_feature_names())))"
   ]
  },
  {
   "cell_type": "markdown",
   "metadata": {},
   "source": [
    "### Token Distribution\n",
    "\n",
    "Look at the distribution of tokens frequencies in the dataset."
   ]
  },
  {
   "cell_type": "markdown",
   "metadata": {},
   "source": [
    "Split full set into positive and negative sets"
   ]
  },
  {
   "cell_type": "code",
   "execution_count": 10,
   "metadata": {},
   "outputs": [],
   "source": [
    "pos_docs = df[df['Positivity'] == 1].loc[:, \"Text\"]\n",
    "neg_docs = df[df['Positivity'] == 0].loc[:, \"Text\"]"
   ]
  },
  {
   "cell_type": "markdown",
   "metadata": {},
   "source": [
    "### Positive Token Distribution\n",
    "\n",
    "Most frequent tokens in the positive set"
   ]
  },
  {
   "cell_type": "code",
   "execution_count": 11,
   "metadata": {},
   "outputs": [],
   "source": [
    "if PLOT_TOKEN_DIST:\n",
    "    pos_token_df = cv_to_df(x_train_vect, pos_docs)\n",
    "    plot_token_df(pos_token_df.head(20), 'Positive Token Distribution (Top 20)')"
   ]
  },
  {
   "cell_type": "markdown",
   "metadata": {},
   "source": [
    "### Negative Token Distribution\n",
    "\n",
    "Most frequent tokens in the negative set"
   ]
  },
  {
   "cell_type": "code",
   "execution_count": 12,
   "metadata": {},
   "outputs": [],
   "source": [
    "if PLOT_TOKEN_DIST:\n",
    "    neg_token_df = cv_to_df(x_train_vect, neg_docs)\n",
    "    plot_token_df(neg_token_df.head(20), 'Negative Token Distribution (Top 20)')"
   ]
  },
  {
   "cell_type": "markdown",
   "metadata": {},
   "source": [
    "### Classifier Threshold\n",
    "\n",
    "What percentage of examples in the dataset are negative and what percentage are positive? Need to take this into account when assessing the model. For example, if 80% of examples are positive - a random guess would have 80% accuracy."
   ]
  },
  {
   "cell_type": "code",
   "execution_count": 13,
   "metadata": {},
   "outputs": [
    {
     "name": "stdout",
     "output_type": "stream",
     "text": [
      "Positive example ratio: 79.50%\n",
      "Negative example ratio: 20.50%\n"
     ]
    }
   ],
   "source": [
    "pos_ratio = float(pos_docs.shape[0]) / float(df.shape[0])\n",
    "neg_ratio = float(neg_docs.shape[0]) / float(df.shape[0])\n",
    "\n",
    "print(\"Positive example ratio: \" + \"{0:.2f}%\".format(pos_ratio * 100.0))\n",
    "print(\"Negative example ratio: \" + \"{0:.2f}%\".format(neg_ratio * 100.0))"
   ]
  },
  {
   "cell_type": "markdown",
   "metadata": {},
   "source": [
    "---"
   ]
  },
  {
   "cell_type": "markdown",
   "metadata": {},
   "source": [
    "### Create the Model\n",
    "\n",
    "Create logistic regression model, run predictions, and compute the AUC score:"
   ]
  },
  {
   "cell_type": "code",
   "execution_count": 14,
   "metadata": {},
   "outputs": [
    {
     "name": "stdout",
     "output_type": "stream",
     "text": [
      "AUC:  0.8580699719469587\n"
     ]
    }
   ],
   "source": [
    "# Use the feature vector to transform the training and test sets - transforms documents\n",
    "# into vectors of feature weights\n",
    "X_train_vectorized = x_train_vect.transform(X_train)\n",
    "X_test_vectorized = x_train_vect.transform(X_test)\n",
    "\n",
    "# Create logistic regression model\n",
    "model = LogisticRegression()\n",
    "\n",
    "# Train model with X & Y sets\n",
    "model.fit(X_train_vectorized, Y_train)\n",
    "\n",
    "# Create predections from test set\n",
    "predictions = model.predict(x_train_vect.transform(X_test))\n",
    "print('AUC: ', roc_auc_score(Y_test, predictions))"
   ]
  },
  {
   "cell_type": "markdown",
   "metadata": {},
   "source": [
    "### Confusion Matrix\n",
    "\n",
    "Plot confusion matrix to visualize classifier performance\n",
    "\n",
    "- **Bottom Left** - False Negative\n",
    "- **Top Left** - True Negative\n",
    "- **Top Right** - False Positive\n",
    "- **Bottom Right** - True Positive\n",
    "\n",
    "Accuracy score = (true positives + true negatives) / total predictions"
   ]
  },
  {
   "cell_type": "code",
   "execution_count": 15,
   "metadata": {},
   "outputs": [
    {
     "data": {
      "image/png": "[encoded data removed]",
      "text/plain": [
       "<Figure size 648x648 with 2 Axes>"
      ]
     },
     "metadata": {
      "needs_background": "light"
     },
     "output_type": "display_data"
    }
   ],
   "source": [
    "plot_confusion_matrix(model, x_train_vect.transform(X_test), Y_test, predictions)"
   ]
  },
  {
   "cell_type": "markdown",
   "metadata": {},
   "source": [
    "### Accuracy vs. AUC\n",
    "\n",
    "Accuracy and AUC both measure the performance of the classifier, but, the accuracy score does not take into account the classifier threshold and the AUC does. So AUC is a more complete measure of performance considering the data is roughly an ~80/20 split Positive/Negative.\n",
    "\n",
    "This [article](http://fastml.com/what-you-wanted-to-know-about-auc/) explains AUC in detail.\n",
    "\n",
    "> That’s another advantage of AUC over accuracy. In case your class labels are mostly negative or mostly positive, a classifier that always outputs 0 or 1, respectively, will achieve high accuracy. In terms of AUC it will score 0.5."
   ]
  },
  {
   "cell_type": "markdown",
   "metadata": {},
   "source": [
    "### Top Features\n",
    "\n",
    "Print out the features with the smallest coefficients (most negative), and the features with the largest coefficients (most positive)"
   ]
  },
  {
   "cell_type": "code",
   "execution_count": 16,
   "metadata": {},
   "outputs": [
    {
     "name": "stdout",
     "output_type": "stream",
     "text": [
      "Smallest Coef: \n",
      "['worst' 'terrible' 'awful' 'disappointing' 'unfortunately' 'horrible'\n",
      " 'disappointed' 'the worst' 'not recommend' 'died' 'threw' 'would not'\n",
      " 'weak' 'nasty' 'not worth' 'cancelled' 'very disappointed' 'stale'\n",
      " 'popped' 'msg']\n",
      "\n",
      "Largest Coef: \n",
      "['delicious' 'excellent' 'not too' 'perfect' 'great' 'amazing' 'wonderful'\n",
      " 'awesome' 'yummy' 'good' 'glad' 'better than' 'pleased' 'is great'\n",
      " 'smooth' 'best' 'rich' 'is the best' 'nice' 'easy to']\n",
      "\n"
     ]
    }
   ],
   "source": [
    "feature_names = np.array(x_train_vect.get_feature_names())\n",
    "sorted_coef_index = model.coef_[0].argsort()\n",
    "print('Smallest Coef: \\n{}\\n'.format(feature_names[sorted_coef_index][:20]))\n",
    "print('Largest Coef: \\n{}\\n'.format(feature_names[sorted_coef_index][:-21:-1]))"
   ]
  },
  {
   "cell_type": "markdown",
   "metadata": {},
   "source": [
    "### Make a Prediction\n",
    "\n",
    "Test the model with some custom review text"
   ]
  },
  {
   "cell_type": "code",
   "execution_count": 17,
   "metadata": {},
   "outputs": [
    {
     "name": "stdout",
     "output_type": "stream",
     "text": [
      "Text to predict:\n",
      "\n",
      "I might get this candy again\n",
      "\n",
      "Prediction ==> POSITIVE\n"
     ]
    }
   ],
   "source": [
    "prediction_text = \"I might get this candy again\"\n",
    "prediction = model.predict(x_train_vect.transform([prediction_text]))[0]\n",
    "\n",
    "print(\"Text to predict:\\n\\n\" + prediction_text + \"\\n\")\n",
    "\n",
    "if prediction:\n",
    "    print(\"Prediction ==> POSITIVE\")\n",
    "else:\n",
    "    print(\"Prediction ==> NEGATIVE\")"
   ]
  },
  {
   "cell_type": "markdown",
   "metadata": {},
   "source": [
    "# Categorical Score Approach - Multinomial Logistic Regression\n",
    "\n",
    "Create a new logistic regression, this time as a [multinomial logistic regression](https://en.wikipedia.org/wiki/Multinomial_logistic_regression) to spread the classifier across all 5 possible score values."
   ]
  },
  {
   "cell_type": "code",
   "execution_count": 18,
   "metadata": {},
   "outputs": [
    {
     "name": "stdout",
     "output_type": "stream",
     "text": [
      "Average Score: 4.15\n"
     ]
    }
   ],
   "source": [
    "# Reset 'df' to the original 'review_data' to get back columns that were removed\n",
    "df = load_data(\"Reviews.csv\", 100000)\n",
    "average_score = compute_avg(df)\n",
    "print(\"Average Score: \" + \"{0:.2f}\".format(average_score))"
   ]
  },
  {
   "cell_type": "markdown",
   "metadata": {},
   "source": [
    "### Score Distribution"
   ]
  },
  {
   "cell_type": "code",
   "execution_count": 19,
   "metadata": {},
   "outputs": [
    {
     "data": {
      "image/png": "[encoded data removed]",
      "text/plain": [
       "<Figure size 864x432 with 1 Axes>"
      ]
     },
     "metadata": {
      "needs_background": "light"
     },
     "output_type": "display_data"
    }
   ],
   "source": [
    "plt.subplots(figsize = (12,6))\n",
    "countplot(df, 'Score', 'Score Distribution')"
   ]
  },
  {
   "cell_type": "markdown",
   "metadata": {},
   "source": [
    "### Cleaning"
   ]
  },
  {
   "cell_type": "code",
   "execution_count": 20,
   "metadata": {},
   "outputs": [
    {
     "name": "stdout",
     "output_type": "stream",
     "text": [
      "Number of rows: 46098\n"
     ]
    },
    {
     "data": {
      "text/html": [
       "<div>\n",
       "<style scoped>\n",
       "    .dataframe tbody tr th:only-of-type {\n",
       "        vertical-align: middle;\n",
       "    }\n",
       "\n",
       "    .dataframe tbody tr th {\n",
       "        vertical-align: top;\n",
       "    }\n",
       "\n",
       "    .dataframe thead th {\n",
       "        text-align: right;\n",
       "    }\n",
       "</style>\n",
       "<table border=\"1\" class=\"dataframe\">\n",
       "  <thead>\n",
       "    <tr style=\"text-align: right;\">\n",
       "      <th></th>\n",
       "      <th>Id</th>\n",
       "      <th>Score</th>\n",
       "      <th>Text</th>\n",
       "    </tr>\n",
       "  </thead>\n",
       "  <tbody>\n",
       "    <tr>\n",
       "      <th>0</th>\n",
       "      <td>1</td>\n",
       "      <td>5</td>\n",
       "      <td>I have bought several of the Vitality canned d...</td>\n",
       "    </tr>\n",
       "    <tr>\n",
       "      <th>2</th>\n",
       "      <td>3</td>\n",
       "      <td>4</td>\n",
       "      <td>This is a confection that has been around a fe...</td>\n",
       "    </tr>\n",
       "    <tr>\n",
       "      <th>3</th>\n",
       "      <td>4</td>\n",
       "      <td>2</td>\n",
       "      <td>If you are looking for the secret ingredient i...</td>\n",
       "    </tr>\n",
       "    <tr>\n",
       "      <th>8</th>\n",
       "      <td>9</td>\n",
       "      <td>5</td>\n",
       "      <td>Right now I'm mostly just sprouting this so my...</td>\n",
       "    </tr>\n",
       "    <tr>\n",
       "      <th>10</th>\n",
       "      <td>11</td>\n",
       "      <td>5</td>\n",
       "      <td>I don't know if it's the cactus or the tequila...</td>\n",
       "    </tr>\n",
       "  </tbody>\n",
       "</table>\n",
       "</div>"
      ],
      "text/plain": [
       "    Id  Score                                               Text\n",
       "0    1      5  I have bought several of the Vitality canned d...\n",
       "2    3      4  This is a confection that has been around a fe...\n",
       "3    4      2  If you are looking for the secret ingredient i...\n",
       "8    9      5  Right now I'm mostly just sprouting this so my...\n",
       "10  11      5  I don't know if it's the cactus or the tequila..."
      ]
     },
     "execution_count": 20,
     "metadata": {},
     "output_type": "execute_result"
    }
   ],
   "source": [
    "df = df[df['HelpfulnessNumerator'] != 0]\n",
    "df.drop(columns = DROP_COLS, inplace = True, axis = 1)\n",
    "print(\"Number of rows: \" + str(df.shape[0]))\n",
    "df.head()"
   ]
  },
  {
   "cell_type": "markdown",
   "metadata": {},
   "source": [
    "### Split into Training and Test\n",
    "\n",
    "Split into training and test sets using the text and score columns."
   ]
  },
  {
   "cell_type": "code",
   "execution_count": 21,
   "metadata": {},
   "outputs": [
    {
     "name": "stdout",
     "output_type": "stream",
     "text": [
      "X_train row count:  34573\n",
      "Y_train row count:  34573\n"
     ]
    }
   ],
   "source": [
    "X_train, X_test, Y_train, Y_test = train_test_split(df['Text'], df['Score'], random_state = 0)\n",
    "print('X_train row count: ', X_train.shape[0])\n",
    "print('Y_train row count: ', Y_train.shape[0])"
   ]
  },
  {
   "cell_type": "markdown",
   "metadata": {},
   "source": [
    "### Features\n",
    "\n",
    "Get the number of features being used by the vectorizer for the `X_train` set.\n",
    "\n",
    "> **NOTE:** We're using the same vectorizer (`cv`) as for the logistic regression, but need to re-fit it to the new score training set."
   ]
  },
  {
   "cell_type": "code",
   "execution_count": 22,
   "metadata": {},
   "outputs": [
    {
     "name": "stdout",
     "output_type": "stream",
     "text": [
      "Number of features in X_train: 77544\n"
     ]
    }
   ],
   "source": [
    "x_train_vect = cv.fit(X_train)\n",
    "print(\"Number of features in X_train: \" + str(len(x_train_vect.get_feature_names())))"
   ]
  },
  {
   "cell_type": "markdown",
   "metadata": {},
   "source": [
    "### Create the Model\n",
    "\n",
    "Create logistic regression model, run predictions, and compute the accuracy score:\n",
    "\n",
    "**NOTE:** Must use a different solver than the default `liblinear` for the `sklearn.linear_model.LogisticRegression`, according to the [documentation](http://scikit-learn.org/stable/modules/generated/sklearn.linear_model.LogisticRegression.html#sklearn.linear_model.LogisticRegression.score):\n",
    "\n",
    "> For multiclass problems, only ‘newton-cg’, ‘sag’, ‘saga’ and ‘lbfgs’ handle multinomial loss; ‘liblinear’ is limited to one-versus-rest schemes."
   ]
  },
  {
   "cell_type": "code",
   "execution_count": 23,
   "metadata": {},
   "outputs": [
    {
     "name": "stdout",
     "output_type": "stream",
     "text": [
      "Score:  0.7277223427331887\n"
     ]
    }
   ],
   "source": [
    "# Use the feature vector to transform the training and test sets - transforms documents\n",
    "# into vectors of feature weights\n",
    "X_train_vectorized = x_train_vect.transform(X_train)\n",
    "X_test_vectorized = x_train_vect.transform(X_test)\n",
    "\n",
    "# Create logistic regression model\n",
    "#\n",
    "# Options for solver: => ['newton-cg', 'sag', 'saga', 'lbfgs']\n",
    "#\n",
    "model = LogisticRegression(multi_class = 'multinomial', solver = 'lbfgs')\n",
    "\n",
    "# Train model with X & Y sets\n",
    "model.fit(X_train_vectorized, Y_train)\n",
    "\n",
    "# Create predections from test set\n",
    "predictions = model.predict(x_train_vect.transform(X_test))\n",
    "print('Score: ', model.score(X_test_vectorized, Y_test))"
   ]
  },
  {
   "cell_type": "markdown",
   "metadata": {},
   "source": [
    "### Confusion Matrix\n",
    "\n",
    "Where the confusion matrix above showed only four quadrants representing true and false positives and negatives, this matrix shows the accuracy across all 5 categories."
   ]
  },
  {
   "cell_type": "code",
   "execution_count": 24,
   "metadata": {},
   "outputs": [
    {
     "data": {
      "image/png": "[encoded data removed]",
      "text/plain": [
       "<Figure size 648x648 with 2 Axes>"
      ]
     },
     "metadata": {
      "needs_background": "light"
     },
     "output_type": "display_data"
    }
   ],
   "source": [
    "plot_confusion_matrix(model, x_train_vect.transform(X_test), Y_test, predictions)"
   ]
  },
  {
   "cell_type": "markdown",
   "metadata": {},
   "source": [
    "The bottom right corner represents correctly predicted scores of 5. Since 5 scores represent a large proportion of the dataset, there are many more correctly predicted 5s than other scores."
   ]
  },
  {
   "cell_type": "markdown",
   "metadata": {},
   "source": [
    "### Top Features\n",
    "\n",
    "Print out the features with the smallest coefficients (most negative), and the features with the largest coefficients (most positive)"
   ]
  },
  {
   "cell_type": "code",
   "execution_count": 25,
   "metadata": {},
   "outputs": [
    {
     "name": "stdout",
     "output_type": "stream",
     "text": [
      "Smallest Coef: \n",
      "['delicious' 'stars' 'excellent' 'perfect' 'amazing' 'definitely' 'loves'\n",
      " 'quickly' 'liked' 'wonderful' 'awesome' 'but not' 'easy' 'not too'\n",
      " 'impressed' 'snack' 'they re' 'without' 'exactly' 'nice']\n",
      "\n",
      "Largest Coef: \n",
      "['worst' 'horrible' 'terrible' 'disgusting' 'the worst' 'awful' 'at all'\n",
      " 'yuck' 'nasty' 'money' 'threw' 'disappointed' 'sorry' 'return'\n",
      " 'not recommend' 'stale' 'very disappointed' 't even' 'gross' 'poor']\n",
      "\n"
     ]
    }
   ],
   "source": [
    "feature_names = np.array(x_train_vect.get_feature_names())\n",
    "sorted_coef_index = model.coef_[0].argsort()\n",
    "print('Smallest Coef: \\n{}\\n'.format(feature_names[sorted_coef_index][:20]))\n",
    "print('Largest Coef: \\n{}\\n'.format(feature_names[sorted_coef_index][:-21:-1]))"
   ]
  },
  {
   "cell_type": "markdown",
   "metadata": {},
   "source": [
    "### Make a Prediction\n",
    "\n",
    "Test the model with some custom review text"
   ]
  },
  {
   "cell_type": "code",
   "execution_count": 26,
   "metadata": {},
   "outputs": [
    {
     "name": "stdout",
     "output_type": "stream",
     "text": [
      "Text to predict:\n",
      "\n",
      "It was pretty good, I think I might order it again.\n",
      "\n",
      "Prediction ==> 4\n"
     ]
    }
   ],
   "source": [
    "prediction_text = \"It was pretty good, I think I might order it again.\"\n",
    "prediction = model.predict(x_train_vect.transform([prediction_text]))[0]\n",
    "\n",
    "print(\"Text to predict:\\n\\n\" + prediction_text + \"\\n\")\n",
    "print(\"Prediction ==> \" + str(prediction))"
   ]
  }
 ],
 "metadata": {
  "kernelspec": {
   "display_name": "Python 3",
   "language": "python",
   "name": "python3"
  },
  "language_info": {
   "codemirror_mode": {
    "name": "ipython",
    "version": 3
   },
   "file_extension": ".py",
   "mimetype": "text/x-python",
   "name": "python",
   "nbconvert_exporter": "python",
   "pygments_lexer": "ipython3",
   "version": "3.7.0"
  }
 },
 "nbformat": 4,
 "nbformat_minor": 2
}
